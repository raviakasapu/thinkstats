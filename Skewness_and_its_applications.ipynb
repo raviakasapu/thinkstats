{
  "nbformat": 4,
  "nbformat_minor": 0,
  "metadata": {
    "colab": {
      "name": "Skewness_and_its_applications.ipynb",
      "provenance": [],
      "collapsed_sections": [],
      "mount_file_id": "1v_KuIzUeVoNE4sLFM9WbswxlU8SGU-C9",
      "authorship_tag": "ABX9TyOU9OXdKuTMQjzjURdDATuf",
      "include_colab_link": true
    },
    "kernelspec": {
      "name": "python3",
      "display_name": "Python 3"
    },
    "language_info": {
      "name": "python"
    }
  },
  "cells": [
    {
      "cell_type": "markdown",
      "metadata": {
        "id": "view-in-github",
        "colab_type": "text"
      },
      "source": [
        "<a href=\"https://colab.research.google.com/github/raviakasapu/thinkstats/blob/main/Skewness_and_its_applications.ipynb\" target=\"_parent\"><img src=\"https://colab.research.google.com/assets/colab-badge.svg\" alt=\"Open In Colab\"/></a>"
      ]
    },
    {
      "cell_type": "markdown",
      "source": [
        "# Types of Skewness\n",
        "  * Positive Skewness\n",
        "  * negative Skewness"
      ],
      "metadata": {
        "id": "NREJAzaI1BHz"
      }
    },
    {
      "cell_type": "markdown",
      "source": [
        "## Positive Skewness\n",
        "The curve is distributed towards tee Right side\n",
        "\n",
        "Mean > Median > Mode"
      ],
      "metadata": {
        "id": "SGAI4hVN1Qof"
      }
    },
    {
      "cell_type": "code",
      "source": [
        "import numpy as np\n",
        "import pandas as pd\n",
        "import statistics as st\n",
        "import seaborn as sns\n",
        "import matplotlib.pyplot as plt\n",
        "%matplotlib inline"
      ],
      "metadata": {
        "id": "GyLuF8JO1dfm"
      },
      "execution_count": 1,
      "outputs": []
    },
    {
      "cell_type": "code",
      "source": [
        "from google.colab import drive\n",
        "drive.mount('/content/drive')"
      ],
      "metadata": {
        "colab": {
          "base_uri": "https://localhost:8080/"
        },
        "id": "PQbHhDii5B-y",
        "outputId": "2e5ec1dc-63ce-4d60-9e69-2f16cf43a3f6"
      },
      "execution_count": 2,
      "outputs": [
        {
          "output_type": "stream",
          "name": "stdout",
          "text": [
            "Mounted at /content/drive\n"
          ]
        }
      ]
    },
    {
      "cell_type": "code",
      "source": [
        "#https://stackoverflow.com/questions/24854965/create-random-numbers-with-left-skewed-probability-distribution\n",
        "\n",
        "from scipy.stats import skewnorm\n",
        "import matplotlib.pyplot as plt\n",
        "\n",
        "numValues = 10000\n",
        "maxValue = 100\n",
        "skewness = -5   #Negative values are left skewed, positive values are right skewed.\n",
        "\n",
        "random = skewnorm.rvs(a = skewness,loc=maxValue, size=numValues)  #Skewnorm function\n",
        "\n",
        "random = random - min(random)      #Shift the set so the minimum value is equal to zero.\n",
        "random = random / max(random)      #Standadize all the vlues between 0 and 1. \n",
        "random = random * maxValue         #Multiply the standardized values by the maximum value.\n",
        "\n",
        "#Plot histogram to check skewness\n",
        "plt.hist(random,30,density=True, color = 'blue', alpha=0.5)\n",
        "plt.title('Negative Skewed Distibution')\n",
        "plt.show()"
      ],
      "metadata": {
        "colab": {
          "base_uri": "https://localhost:8080/",
          "height": 281
        },
        "id": "J7Sh-1OvIIXG",
        "outputId": "ff0a4eaf-1d05-444f-d4f4-e2931c52c374"
      },
      "execution_count": 109,
      "outputs": [
        {
          "output_type": "display_data",
          "data": {
            "image/png": "[encoded data removed]",
            "text/plain": [
              "<Figure size 432x288 with 1 Axes>"
            ]
          },
          "metadata": {
            "needs_background": "light"
          }
        }
      ]
    },
    {
      "cell_type": "code",
      "source": [
        "numValues = 10000\n",
        "maxValue = 100\n",
        "skewness = 5   #Negative values are left skewed, positive values are right skewed.\n",
        "\n",
        "random = skewnorm.rvs(a = skewness,loc=maxValue, size=numValues)  #Skewnorm function\n",
        "\n",
        "random = random - min(random)      #Shift the set so the minimum value is equal to zero.\n",
        "random = random / max(random)      #Standadize all the vlues between 0 and 1. \n",
        "random = random * maxValue         #Multiply the standardized values by the maximum value.\n",
        "\n",
        "#Plot histogram to check skewness\n",
        "plt.hist(random,30,density=True, color = 'blue', alpha=0.5)\n",
        "plt.title('Positive Skewed Distibution')\n",
        "plt.show()"
      ],
      "metadata": {
        "colab": {
          "base_uri": "https://localhost:8080/",
          "height": 281
        },
        "id": "2ZJrzxXyIZg4",
        "outputId": "612323a1-b8d7-49ab-f84f-b61a1396739e"
      },
      "execution_count": 110,
      "outputs": [
        {
          "output_type": "display_data",
          "data": {
            "image/png": "[encoded data removed]",
            "text/plain": [
              "<Figure size 432x288 with 1 Axes>"
            ]
          },
          "metadata": {
            "needs_background": "light"
          }
        }
      ]
    },
    {
      "cell_type": "code",
      "source": [
        "numValues = 10000\n",
        "maxValue = 100\n",
        "skewness = 0   #Negative values are left skewed, positive values are right skewed.\n",
        "\n",
        "random = skewnorm.rvs(a = skewness,loc=maxValue, size=numValues)  #Skewnorm function\n",
        "\n",
        "random = random - min(random)      #Shift the set so the minimum value is equal to zero.\n",
        "random = random / max(random)      #Standadize all the vlues between 0 and 1. \n",
        "random = random * maxValue         #Multiply the standardized values by the maximum value.\n",
        "\n",
        "#Plot histogram to check skewness\n",
        "plt.hist(random,30,density=True, color = 'blue', alpha=0.5)\n",
        "plt.title('Normal Distibution')\n",
        "plt.show()"
      ],
      "metadata": {
        "colab": {
          "base_uri": "https://localhost:8080/",
          "height": 281
        },
        "id": "rOd_kWHpIdF4",
        "outputId": "2e9f59f5-428e-4a17-8c27-1b77e15723a3"
      },
      "execution_count": 111,
      "outputs": [
        {
          "output_type": "display_data",
          "data": {
            "image/png": "[encoded data removed]",
            "text/plain": [
              "<Figure size 432x288 with 1 Axes>"
            ]
          },
          "metadata": {
            "needs_background": "light"
          }
        }
      ]
    }
  ]
}