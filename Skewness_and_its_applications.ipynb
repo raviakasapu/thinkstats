{
  "nbformat": 4,
  "nbformat_minor": 0,
  "metadata": {
    "colab": {
      "name": "Skewness_and_its_applications.ipynb",
      "provenance": [],
      "collapsed_sections": [],
      "mount_file_id": "1v_KuIzUeVoNE4sLFM9WbswxlU8SGU-C9",
      "authorship_tag": "ABX9TyOoViLwkjvcUAUmNG2c3VcA",
      "include_colab_link": true
    },
    "kernelspec": {
      "name": "python3",
      "display_name": "Python 3"
    },
    "language_info": {
      "name": "python"
    }
  },
  "cells": [
    {
      "cell_type": "markdown",
      "metadata": {
        "id": "view-in-github",
        "colab_type": "text"
      },
      "source": [
        "<a href=\"https://colab.research.google.com/github/raviakasapu/thinkstats/blob/main/Skewness_and_its_applications.ipynb\" target=\"_parent\"><img src=\"https://colab.research.google.com/assets/colab-badge.svg\" alt=\"Open In Colab\"/></a>"
      ]
    },
    {
      "cell_type": "markdown",
      "source": [
        "# Types of Skewness\n",
        "  * Positive Skewness\n",
        "  * negative Skewness"
      ],
      "metadata": {
        "id": "NREJAzaI1BHz"
      }
    },
    {
      "cell_type": "code",
      "source": [
        "import numpy as np\n",
        "import pandas as pd\n",
        "import statistics as st\n",
        "import seaborn as sns\n",
        "import matplotlib.pyplot as plt\n",
        "%matplotlib inline"
      ],
      "metadata": {
        "id": "GyLuF8JO1dfm"
      },
      "execution_count": 1,
      "outputs": []
    },
    {
      "cell_type": "code",
      "source": [
        "from google.colab import drive\n",
        "drive.mount('/content/drive')"
      ],
      "metadata": {
        "colab": {
          "base_uri": "https://localhost:8080/"
        },
        "id": "PQbHhDii5B-y",
        "outputId": "2e5ec1dc-63ce-4d60-9e69-2f16cf43a3f6"
      },
      "execution_count": 2,
      "outputs": [
        {
          "output_type": "stream",
          "name": "stdout",
          "text": [
            "Mounted at /content/drive\n"
          ]
        }
      ]
    },
    {
      "cell_type": "markdown",
      "source": [
        "## Negative Skewness\n",
        "The curve is distributed towards tee Left side\n",
        "\n",
        "Mean < Median < Mode"
      ],
      "metadata": {
        "id": "6GH-LxAhMJNu"
      }
    },
    {
      "cell_type": "code",
      "source": [
        "#https://stackoverflow.com/questions/24854965/create-random-numbers-with-left-skewed-probability-distribution\n",
        "\n",
        "from scipy.stats import skewnorm\n",
        "import matplotlib.pyplot as plt\n",
        "\n",
        "numValues = 10000\n",
        "maxValue = 100\n",
        "skewness = -5   #Negative values are left skewed, positive values are right skewed.\n",
        "\n",
        "n_random = skewnorm.rvs(a = skewness,loc=maxValue, size=numValues)  #Skewnorm function\n",
        "\n",
        "n_random = n_random - min(n_random)      #Shift the set so the minimum value is equal to zero.\n",
        "n_random = n_random / max(n_random)      #Standadize all the vlues between 0 and 1. \n",
        "n_random = n_random * maxValue         #Multiply the standardized values by the maximum value.\n",
        "\n",
        "#Plot histogram to check skewness\n",
        "plt.hist(n_random,30,density=True, color = 'blue', alpha=0.5)\n",
        "plt.title('Negative Skewed Distibution')\n",
        "plt.show()"
      ],
      "metadata": {
        "colab": {
          "base_uri": "https://localhost:8080/",
          "height": 281
        },
        "id": "J7Sh-1OvIIXG",
        "outputId": "6b3f3a7e-de4b-4efb-a3a8-64ce8d563bf2"
      },
      "execution_count": 119,
      "outputs": [
        {
          "output_type": "display_data",
          "data": {
            "image/png": "[encoded data removed]",
            "text/plain": [
              "<Figure size 432x288 with 1 Axes>"
            ]
          },
          "metadata": {
            "needs_background": "light"
          }
        }
      ]
    },
    {
      "cell_type": "markdown",
      "source": [
        "## Positive Skewness\n",
        "The curve is distributed towards tee Right side\n",
        "\n",
        "Mean > Median > Mode"
      ],
      "metadata": {
        "id": "bfH-qvlLMQ5i"
      }
    },
    {
      "cell_type": "code",
      "source": [
        "numValues = 10000\n",
        "maxValue = 100\n",
        "skewness = 5   #Negative values are left skewed, positive values are right skewed.\n",
        "\n",
        "p_random = skewnorm.rvs(a = skewness,loc=maxValue, size=numValues)  #Skewnorm function\n",
        "\n",
        "p_random = p_random - min(p_random)      #Shift the set so the minimum value is equal to zero.\n",
        "p_random = p_random / max(p_random)      #Standadize all the vlues between 0 and 1. \n",
        "p_random = p_random * maxValue         #Multiply the standardized values by the maximum value.\n",
        "\n",
        "#Plot histogram to check skewness\n",
        "plt.hist(p_random,30,density=True, color = 'Red', alpha=0.5)\n",
        "plt.title('Positive Skewed Distibution')\n",
        "plt.show()"
      ],
      "metadata": {
        "colab": {
          "base_uri": "https://localhost:8080/",
          "height": 281
        },
        "id": "2ZJrzxXyIZg4",
        "outputId": "faefcfed-858d-4a06-ea5e-3f30715687cf"
      },
      "execution_count": 131,
      "outputs": [
        {
          "output_type": "display_data",
          "data": {
            "image/png": "[encoded data removed]",
            "text/plain": [
              "<Figure size 432x288 with 1 Axes>"
            ]
          },
          "metadata": {
            "needs_background": "light"
          }
        }
      ]
    },
    {
      "cell_type": "markdown",
      "source": [
        "# Normal Distribution"
      ],
      "metadata": {
        "id": "ccbUByM6MXAw"
      }
    },
    {
      "cell_type": "code",
      "source": [
        "numValues = 10000\n",
        "maxValue = 100\n",
        "skewness = 0   #Negative values are left skewed, positive values are right skewed.\n",
        "\n",
        "random = skewnorm.rvs(a = skewness,loc=maxValue, size=numValues)  #Skewnorm function\n",
        "\n",
        "random = random - min(random)      #Shift the set so the minimum value is equal to zero.\n",
        "random = random / max(random)      #Standadize all the vlues between 0 and 1. \n",
        "random = random * maxValue         #Multiply the standardized values by the maximum value.\n",
        "\n",
        "#Plot histogram to check skewness\n",
        "plt.hist(random,30,density=True, color = 'Green', alpha=0.5)\n",
        "plt.title('Normal Distibution')\n",
        "plt.show()"
      ],
      "metadata": {
        "colab": {
          "base_uri": "https://localhost:8080/",
          "height": 281
        },
        "id": "rOd_kWHpIdF4",
        "outputId": "5cbe643f-2870-4f96-b550-05ab69872bd6"
      },
      "execution_count": 132,
      "outputs": [
        {
          "output_type": "display_data",
          "data": {
            "image/png": "[encoded data removed]",
            "text/plain": [
              "<Figure size 432x288 with 1 Axes>"
            ]
          },
          "metadata": {
            "needs_background": "light"
          }
        }
      ]
    },
    {
      "cell_type": "markdown",
      "source": [
        "# box plots to show stats for each type of distribution"
      ],
      "metadata": {
        "id": "JuIcjmMVL1o2"
      }
    },
    {
      "cell_type": "code",
      "source": [
        "data = [n_random, random, p_random]\n",
        "labels = ['', 'Right Skewed', 'Normal', 'Left Skewed']\n",
        "fig = plt.figure(figsize =(10, 7))\n",
        "ax = fig.add_axes([0, 0, 1, 1])\n",
        "bp = ax.boxplot(data)\n",
        "plt.xticks([0, 1, 2, 3], labels,rotation=20)\n",
        "\n",
        "plt.show()"
      ],
      "metadata": {
        "colab": {
          "base_uri": "https://localhost:8080/",
          "height": 575
        },
        "id": "PnPSciGfJPib",
        "outputId": "b67ba02d-9d11-4c38-8c0e-9801a07380c7"
      },
      "execution_count": 129,
      "outputs": [
        {
          "output_type": "display_data",
          "data": {
            "image/png": "[encoded data removed]",
            "text/plain": [
              "<Figure size 720x504 with 1 Axes>"
            ]
          },
          "metadata": {
            "needs_background": "light"
          }
        }
      ]
    }
  ]
}