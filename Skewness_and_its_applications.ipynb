{
  "nbformat": 4,
  "nbformat_minor": 0,
  "metadata": {
    "colab": {
      "name": "Skewness_and_its_applications.ipynb",
      "provenance": [],
      "collapsed_sections": [],
      "mount_file_id": "1v_KuIzUeVoNE4sLFM9WbswxlU8SGU-C9",
      "authorship_tag": "ABX9TyOC0edJZkLgOLBtzKVUgiYp",
      "include_colab_link": true
    },
    "kernelspec": {
      "name": "python3",
      "display_name": "Python 3"
    },
    "language_info": {
      "name": "python"
    }
  },
  "cells": [
    {
      "cell_type": "markdown",
      "metadata": {
        "id": "view-in-github",
        "colab_type": "text"
      },
      "source": [
        "<a href=\"https://colab.research.google.com/github/raviakasapu/thinkstats/blob/main/Skewness_and_its_applications.ipynb\" target=\"_parent\"><img src=\"https://colab.research.google.com/assets/colab-badge.svg\" alt=\"Open In Colab\"/></a>"
      ]
    },
    {
      "cell_type": "markdown",
      "source": [
        "# Types of Skewness\n",
        "  * Positive Skewness\n",
        "  * negative Skewness"
      ],
      "metadata": {
        "id": "NREJAzaI1BHz"
      }
    },
    {
      "cell_type": "code",
      "source": [
        "import numpy as np\n",
        "import pandas as pd\n",
        "import statistics as st\n",
        "import seaborn as sns\n",
        "import matplotlib.pyplot as plt\n",
        "%matplotlib inline"
      ],
      "metadata": {
        "id": "GyLuF8JO1dfm"
      },
      "execution_count": 3,
      "outputs": []
    },
    {
      "cell_type": "code",
      "source": [
        "from google.colab import drive\n",
        "#drive.mount('/content/drive')"
      ],
      "metadata": {
        "colab": {
          "base_uri": "https://localhost:8080/"
        },
        "id": "PQbHhDii5B-y",
        "outputId": "b850360b-d77a-469a-8abb-e5545aac20b8"
      },
      "execution_count": 4,
      "outputs": [
        {
          "output_type": "stream",
          "name": "stdout",
          "text": [
            "Drive already mounted at /content/drive; to attempt to forcibly remount, call drive.mount(\"/content/drive\", force_remount=True).\n"
          ]
        }
      ]
    },
    {
      "cell_type": "markdown",
      "source": [
        "## Negative Skewness\n",
        "The curve is distributed towards tee Left side\n",
        "\n",
        "Mean < Median < Mode"
      ],
      "metadata": {
        "id": "6GH-LxAhMJNu"
      }
    },
    {
      "cell_type": "code",
      "source": [
        "#https://stackoverflow.com/questions/24854965/create-random-numbers-with-left-skewed-probability-distribution\n",
        "\n",
        "from scipy.stats import skewnorm\n",
        "import matplotlib.pyplot as plt\n",
        "\n",
        "numValues = 10000\n",
        "maxValue = 100\n",
        "skewness = -5   #Negative values are left skewed, positive values are right skewed.\n",
        "\n",
        "n_random = skewnorm.rvs(a = skewness,loc=maxValue, size=numValues)  #Skewnorm function\n",
        "\n",
        "n_random = n_random - min(n_random)      #Shift the set so the minimum value is equal to zero.\n",
        "n_random = n_random / max(n_random)      #Standadize all the vlues between 0 and 1. \n",
        "n_random = n_random * maxValue         #Multiply the standardized values by the maximum value.\n",
        "\n",
        "#Plot histogram to check skewness\n",
        "plt.hist(n_random,30,density=True, color = 'blue', alpha=0.5)\n",
        "plt.title('Negative Skewed Distibution')\n",
        "plt.show()"
      ],
      "metadata": {
        "colab": {
          "base_uri": "https://localhost:8080/",
          "height": 281
        },
        "id": "J7Sh-1OvIIXG",
        "outputId": "a20c8140-e7d4-4f2d-a59c-83cf40259ec7"
      },
      "execution_count": 5,
      "outputs": [
        {
          "output_type": "display_data",
          "data": {
            "image/png": "[encoded data removed]",
            "text/plain": [
              "<Figure size 432x288 with 1 Axes>"
            ]
          },
          "metadata": {
            "needs_background": "light"
          }
        }
      ]
    },
    {
      "cell_type": "markdown",
      "source": [
        "## Positive Skewness\n",
        "The curve is distributed towards tee Right side\n",
        "\n",
        "Mean > Median > Mode"
      ],
      "metadata": {
        "id": "bfH-qvlLMQ5i"
      }
    },
    {
      "cell_type": "code",
      "source": [
        "numValues = 10000\n",
        "maxValue = 100\n",
        "skewness = 5   #Negative values are left skewed, positive values are right skewed.\n",
        "\n",
        "p_random = skewnorm.rvs(a = skewness,loc=maxValue, size=numValues)  #Skewnorm function\n",
        "\n",
        "p_random = p_random - min(p_random)      #Shift the set so the minimum value is equal to zero.\n",
        "p_random = p_random / max(p_random)      #Standadize all the vlues between 0 and 1. \n",
        "p_random = p_random * maxValue         #Multiply the standardized values by the maximum value.\n",
        "\n",
        "#Plot histogram to check skewness\n",
        "plt.hist(p_random,30,density=True, color = 'Red', alpha=0.5)\n",
        "plt.title('Positive Skewed Distibution')\n",
        "plt.show()"
      ],
      "metadata": {
        "colab": {
          "base_uri": "https://localhost:8080/",
          "height": 281
        },
        "id": "2ZJrzxXyIZg4",
        "outputId": "2d82eb4c-677f-4216-c061-2b22d606cb43"
      },
      "execution_count": 6,
      "outputs": [
        {
          "output_type": "display_data",
          "data": {
            "image/png": "[encoded data removed]",
            "text/plain": [
              "<Figure size 432x288 with 1 Axes>"
            ]
          },
          "metadata": {
            "needs_background": "light"
          }
        }
      ]
    },
    {
      "cell_type": "markdown",
      "source": [
        "# Normal Distribution"
      ],
      "metadata": {
        "id": "ccbUByM6MXAw"
      }
    },
    {
      "cell_type": "code",
      "source": [
        "numValues = 10000\n",
        "maxValue = 100\n",
        "skewness = 0   #Negative values are left skewed, positive values are right skewed.\n",
        "\n",
        "random = skewnorm.rvs(a = skewness,loc=maxValue, size=numValues)  #Skewnorm function\n",
        "\n",
        "random = random - min(random)      #Shift the set so the minimum value is equal to zero.\n",
        "random = random / max(random)      #Standadize all the vlues between 0 and 1. \n",
        "random = random * maxValue         #Multiply the standardized values by the maximum value.\n",
        "\n",
        "#Plot histogram to check skewness\n",
        "plt.hist(random,30,density=True, color = 'Green', alpha=0.5)\n",
        "plt.title('Normal Distibution')\n",
        "plt.show()"
      ],
      "metadata": {
        "colab": {
          "base_uri": "https://localhost:8080/",
          "height": 281
        },
        "id": "rOd_kWHpIdF4",
        "outputId": "7b828d5d-f3f7-4321-e5c9-b7658c07d839"
      },
      "execution_count": 7,
      "outputs": [
        {
          "output_type": "display_data",
          "data": {
            "image/png": "[encoded data removed]",
            "text/plain": [
              "<Figure size 432x288 with 1 Axes>"
            ]
          },
          "metadata": {
            "needs_background": "light"
          }
        }
      ]
    },
    {
      "cell_type": "markdown",
      "source": [
        "# box plots to show stats for each type of distribution"
      ],
      "metadata": {
        "id": "JuIcjmMVL1o2"
      }
    },
    {
      "cell_type": "code",
      "source": [
        "data = [n_random, random, p_random]\n",
        "labels = ['', 'Right Skewed', 'Normal', 'Left Skewed']\n",
        "fig = plt.figure(figsize =(10, 7))\n",
        "ax = fig.add_axes([0, 0, 1, 1])\n",
        "bp = ax.boxplot(data)\n",
        "plt.xticks([0, 1, 2, 3], labels,rotation=20)\n",
        "\n",
        "plt.show()"
      ],
      "metadata": {
        "colab": {
          "base_uri": "https://localhost:8080/",
          "height": 575
        },
        "id": "PnPSciGfJPib",
        "outputId": "d0e1330d-54fd-40e8-d65b-0adbb1d8982d"
      },
      "execution_count": 8,
      "outputs": [
        {
          "output_type": "display_data",
          "data": {
            "image/png": "[encoded data removed]",
            "text/plain": [
              "<Figure size 720x504 with 1 Axes>"
            ]
          },
          "metadata": {
            "needs_background": "light"
          }
        }
      ]
    }
  ]
}